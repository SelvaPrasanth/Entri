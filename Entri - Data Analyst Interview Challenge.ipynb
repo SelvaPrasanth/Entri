{
 "cells": [
  {
   "cell_type": "markdown",
   "metadata": {},
   "source": [
    "# Data Overview"
   ]
  },
  {
   "cell_type": "markdown",
   "metadata": {},
   "source": [
    "![](Data_Model.JPG)"
   ]
  },
  {
   "cell_type": "markdown",
   "metadata": {},
   "source": [
    "# Packages"
   ]
  },
  {
   "cell_type": "code",
   "execution_count": 1,
   "metadata": {},
   "outputs": [],
   "source": [
    "import numpy as np\n",
    "import pandas as pd\n",
    "import matplotlib.pyplot as plt\n",
    "import datetime as dt"
   ]
  },
  {
   "cell_type": "markdown",
   "metadata": {},
   "source": [
    "# Dataframes"
   ]
  },
  {
   "cell_type": "code",
   "execution_count": 2,
   "metadata": {},
   "outputs": [],
   "source": [
    "Subscription=pd.read_csv(r'user_data_set\\track_subscription_data.csv',parse_dates=['subscription_date'])\n",
    "Purchase=pd.read_csv(r'user_data_set\\user_purchase_data.csv',parse_dates=['date_joined','date_of_first_purhcase'])\n",
    "Quiz=pd.read_csv(r'user_data_set\\user_quiz_attempt_data.csv',parse_dates=['started_at'])\n",
    "Studycard=pd.read_csv(r'user_data_set\\user_studycard_data.csv',parse_dates=['start_time'])\n",
    "Video_Activity=pd.read_csv(r'user_data_set\\user_video_activity_data.csv',parse_dates=['watched_at'])"
   ]
  },
  {
   "cell_type": "markdown",
   "metadata": {},
   "source": [
    "# Purchase"
   ]
  },
  {
   "cell_type": "code",
   "execution_count": 36,
   "metadata": {},
   "outputs": [
    {
     "data": {
      "text/html": [
       "<div>\n",
       "<style scoped>\n",
       "    .dataframe tbody tr th:only-of-type {\n",
       "        vertical-align: middle;\n",
       "    }\n",
       "\n",
       "    .dataframe tbody tr th {\n",
       "        vertical-align: top;\n",
       "    }\n",
       "\n",
       "    .dataframe thead th {\n",
       "        text-align: right;\n",
       "    }\n",
       "</style>\n",
       "<table border=\"1\" class=\"dataframe\">\n",
       "  <thead>\n",
       "    <tr style=\"text-align: right;\">\n",
       "      <th></th>\n",
       "      <th>user_uid</th>\n",
       "      <th>date_joined</th>\n",
       "      <th>date_of_first_purhcase</th>\n",
       "      <th>Week_Threshold</th>\n",
       "    </tr>\n",
       "  </thead>\n",
       "  <tbody>\n",
       "    <tr>\n",
       "      <th>0</th>\n",
       "      <td>6</td>\n",
       "      <td>2021-06-04</td>\n",
       "      <td>2021-06-04</td>\n",
       "      <td>2021-06-11</td>\n",
       "    </tr>\n",
       "    <tr>\n",
       "      <th>1</th>\n",
       "      <td>608</td>\n",
       "      <td>2021-06-04</td>\n",
       "      <td>NaT</td>\n",
       "      <td>2021-06-11</td>\n",
       "    </tr>\n",
       "    <tr>\n",
       "      <th>2</th>\n",
       "      <td>635</td>\n",
       "      <td>2021-06-04</td>\n",
       "      <td>NaT</td>\n",
       "      <td>2021-06-11</td>\n",
       "    </tr>\n",
       "    <tr>\n",
       "      <th>3</th>\n",
       "      <td>745</td>\n",
       "      <td>2021-06-04</td>\n",
       "      <td>NaT</td>\n",
       "      <td>2021-06-11</td>\n",
       "    </tr>\n",
       "    <tr>\n",
       "      <th>4</th>\n",
       "      <td>1506</td>\n",
       "      <td>2021-06-04</td>\n",
       "      <td>NaT</td>\n",
       "      <td>2021-06-11</td>\n",
       "    </tr>\n",
       "  </tbody>\n",
       "</table>\n",
       "</div>"
      ],
      "text/plain": [
       "   user_uid date_joined date_of_first_purhcase Week_Threshold\n",
       "0         6  2021-06-04             2021-06-04     2021-06-11\n",
       "1       608  2021-06-04                    NaT     2021-06-11\n",
       "2       635  2021-06-04                    NaT     2021-06-11\n",
       "3       745  2021-06-04                    NaT     2021-06-11\n",
       "4      1506  2021-06-04                    NaT     2021-06-11"
      ]
     },
     "execution_count": 36,
     "metadata": {},
     "output_type": "execute_result"
    }
   ],
   "source": [
    "Purchase.head()"
   ]
  },
  {
   "cell_type": "code",
   "execution_count": 7,
   "metadata": {},
   "outputs": [
    {
     "name": "stdout",
     "output_type": "stream",
     "text": [
      "Total Number of Paid Users are: 576\n",
      "Total Number of Unpaid Users are: 424\n"
     ]
    }
   ],
   "source": [
    "#Paid and Unpaid Distribution\n",
    "paid=Purchase[Purchase['date_of_first_purhcase'].notnull()]\n",
    "print(f\"\"\"Total Number of Paid Users are: {paid.shape[0]}\"\"\")\n",
    "Unpaid=Purchase[~Purchase['date_of_first_purhcase'].notnull()]\n",
    "print(f\"\"\"Total Number of Unpaid Users are: {Unpaid.shape[0]}\"\"\")\n",
    "\n",
    "#Adding a new column to calculate 7 days threshold\n",
    "Purchase['Week_Threshold']=Purchase['date_joined']+dt.timedelta(7)\n"
   ]
  },
  {
   "cell_type": "markdown",
   "metadata": {},
   "source": [
    "# Subscription"
   ]
  },
  {
   "cell_type": "code",
   "execution_count": 33,
   "metadata": {},
   "outputs": [
    {
     "data": {
      "text/html": [
       "<div>\n",
       "<style scoped>\n",
       "    .dataframe tbody tr th:only-of-type {\n",
       "        vertical-align: middle;\n",
       "    }\n",
       "\n",
       "    .dataframe tbody tr th {\n",
       "        vertical-align: top;\n",
       "    }\n",
       "\n",
       "    .dataframe thead th {\n",
       "        text-align: right;\n",
       "    }\n",
       "</style>\n",
       "<table border=\"1\" class=\"dataframe\">\n",
       "  <thead>\n",
       "    <tr style=\"text-align: right;\">\n",
       "      <th></th>\n",
       "      <th>user_id</th>\n",
       "      <th>track_slug</th>\n",
       "      <th>subscription_date</th>\n",
       "    </tr>\n",
       "  </thead>\n",
       "  <tbody>\n",
       "    <tr>\n",
       "      <th>0</th>\n",
       "      <td>6</td>\n",
       "      <td>kerala-psc</td>\n",
       "      <td>2021-06-04</td>\n",
       "    </tr>\n",
       "    <tr>\n",
       "      <th>1</th>\n",
       "      <td>6</td>\n",
       "      <td>KTET</td>\n",
       "      <td>2021-06-04</td>\n",
       "    </tr>\n",
       "    <tr>\n",
       "      <th>2</th>\n",
       "      <td>608</td>\n",
       "      <td>spoken-english</td>\n",
       "      <td>2021-06-04</td>\n",
       "    </tr>\n",
       "    <tr>\n",
       "      <th>3</th>\n",
       "      <td>608</td>\n",
       "      <td>APPSC</td>\n",
       "      <td>2021-06-04</td>\n",
       "    </tr>\n",
       "    <tr>\n",
       "      <th>4</th>\n",
       "      <td>608</td>\n",
       "      <td>Eng_With_Awal</td>\n",
       "      <td>2021-06-04</td>\n",
       "    </tr>\n",
       "  </tbody>\n",
       "</table>\n",
       "</div>"
      ],
      "text/plain": [
       "   user_id      track_slug subscription_date\n",
       "0        6      kerala-psc        2021-06-04\n",
       "1        6            KTET        2021-06-04\n",
       "2      608  spoken-english        2021-06-04\n",
       "3      608           APPSC        2021-06-04\n",
       "4      608   Eng_With_Awal        2021-06-04"
      ]
     },
     "execution_count": 33,
     "metadata": {},
     "output_type": "execute_result"
    }
   ],
   "source": [
    "Subscription.head()"
   ]
  },
  {
   "cell_type": "code",
   "execution_count": 44,
   "metadata": {},
   "outputs": [
    {
     "name": "stdout",
     "output_type": "stream",
     "text": [
      "There are 962 Distinct users have made an Subscription\n",
      "There are 66 Tracks available for Subscription \n"
     ]
    }
   ],
   "source": [
    "Subscription.columns\n",
    "#['user_id', 'track_slug', 'subscription_date']\n",
    "print(f\"\"\"There are {Subscription['user_id'].nunique()} Distinct users have made an Subscription\"\"\")\n",
    "print(f\"\"\"There are {Subscription['track_slug'].nunique()} Tracks available for Subscription \"\"\")"
   ]
  },
  {
   "cell_type": "code",
   "execution_count": 45,
   "metadata": {},
   "outputs": [
    {
     "data": {
      "text/html": [
       "<div>\n",
       "<style scoped>\n",
       "    .dataframe tbody tr th:only-of-type {\n",
       "        vertical-align: middle;\n",
       "    }\n",
       "\n",
       "    .dataframe tbody tr th {\n",
       "        vertical-align: top;\n",
       "    }\n",
       "\n",
       "    .dataframe thead th {\n",
       "        text-align: right;\n",
       "    }\n",
       "</style>\n",
       "<table border=\"1\" class=\"dataframe\">\n",
       "  <thead>\n",
       "    <tr style=\"text-align: right;\">\n",
       "      <th></th>\n",
       "      <th>track_slug</th>\n",
       "      <th>No_of_Subscription</th>\n",
       "    </tr>\n",
       "  </thead>\n",
       "  <tbody>\n",
       "    <tr>\n",
       "      <th>47</th>\n",
       "      <td>Spoken_eng_hindi</td>\n",
       "      <td>284</td>\n",
       "    </tr>\n",
       "    <tr>\n",
       "      <th>64</th>\n",
       "      <td>spoken-english</td>\n",
       "      <td>213</td>\n",
       "    </tr>\n",
       "    <tr>\n",
       "      <th>62</th>\n",
       "      <td>kerala-psc</td>\n",
       "      <td>163</td>\n",
       "    </tr>\n",
       "    <tr>\n",
       "      <th>4</th>\n",
       "      <td>BANK-INS</td>\n",
       "      <td>64</td>\n",
       "    </tr>\n",
       "    <tr>\n",
       "      <th>65</th>\n",
       "      <td>ssc</td>\n",
       "      <td>57</td>\n",
       "    </tr>\n",
       "    <tr>\n",
       "      <th>...</th>\n",
       "      <td>...</td>\n",
       "      <td>...</td>\n",
       "    </tr>\n",
       "    <tr>\n",
       "      <th>35</th>\n",
       "      <td>NEET</td>\n",
       "      <td>1</td>\n",
       "    </tr>\n",
       "    <tr>\n",
       "      <th>57</th>\n",
       "      <td>YourStory_Academy</td>\n",
       "      <td>1</td>\n",
       "    </tr>\n",
       "    <tr>\n",
       "      <th>27</th>\n",
       "      <td>I_S_T</td>\n",
       "      <td>1</td>\n",
       "    </tr>\n",
       "    <tr>\n",
       "      <th>28</th>\n",
       "      <td>JEE</td>\n",
       "      <td>1</td>\n",
       "    </tr>\n",
       "    <tr>\n",
       "      <th>43</th>\n",
       "      <td>SDQ</td>\n",
       "      <td>1</td>\n",
       "    </tr>\n",
       "  </tbody>\n",
       "</table>\n",
       "<p>66 rows × 2 columns</p>\n",
       "</div>"
      ],
      "text/plain": [
       "           track_slug  No_of_Subscription\n",
       "47   Spoken_eng_hindi                 284\n",
       "64     spoken-english                 213\n",
       "62         kerala-psc                 163\n",
       "4            BANK-INS                  64\n",
       "65                ssc                  57\n",
       "..                ...                 ...\n",
       "35               NEET                   1\n",
       "57  YourStory_Academy                   1\n",
       "27              I_S_T                   1\n",
       "28                JEE                   1\n",
       "43                SDQ                   1\n",
       "\n",
       "[66 rows x 2 columns]"
      ]
     },
     "execution_count": 45,
     "metadata": {},
     "output_type": "execute_result"
    }
   ],
   "source": [
    "#Number of Subscription per Track\n",
    "sbs=Subscription.groupby(['track_slug'],\n",
    "                     as_index=False).agg(No_of_Subscription=('user_id',\n",
    "        pd.Series.nunique)).sort_values('No_of_Subscription',\n",
    "        ascending=False)\n",
    "sbs"
   ]
  },
  {
   "cell_type": "code",
   "execution_count": 6,
   "metadata": {},
   "outputs": [
    {
     "data": {
      "image/png": "[encoded data removed]",
      "text/plain": [
       "<Figure size 720x360 with 1 Axes>"
      ]
     },
     "metadata": {
      "needs_background": "light"
     },
     "output_type": "display_data"
    }
   ],
   "source": [
    "#Active Subscriptions\n",
    "sbs=sbs.head(15).sort_values('No_of_Subscription',ascending=True)\n",
    "fig = plt.figure(figsize = (10, 5))\n",
    "plt.barh(sbs['track_slug'],sbs['No_of_Subscription'], color ='blue')\n",
    "plt.xlabel(\"No of Distinct User Subscription\")\n",
    "plt.ylabel(\"Tracks Offered\")\n",
    "plt.title(\"Top 15 Active Subscriptions\")\n",
    "plt.show()\n",
    "\n"
   ]
  },
  {
   "cell_type": "markdown",
   "metadata": {},
   "source": [
    "# QUIZ"
   ]
  },
  {
   "cell_type": "code",
   "execution_count": 9,
   "metadata": {},
   "outputs": [
    {
     "data": {
      "text/html": [
       "<div>\n",
       "<style scoped>\n",
       "    .dataframe tbody tr th:only-of-type {\n",
       "        vertical-align: middle;\n",
       "    }\n",
       "\n",
       "    .dataframe tbody tr th {\n",
       "        vertical-align: top;\n",
       "    }\n",
       "\n",
       "    .dataframe thead th {\n",
       "        text-align: right;\n",
       "    }\n",
       "</style>\n",
       "<table border=\"1\" class=\"dataframe\">\n",
       "  <thead>\n",
       "    <tr style=\"text-align: right;\">\n",
       "      <th></th>\n",
       "      <th>user_id</th>\n",
       "      <th>attempt_id</th>\n",
       "      <th>started_at</th>\n",
       "      <th>status</th>\n",
       "      <th>no_of_questions</th>\n",
       "      <th>question_attempted</th>\n",
       "    </tr>\n",
       "  </thead>\n",
       "  <tbody>\n",
       "    <tr>\n",
       "      <th>0</th>\n",
       "      <td>1506</td>\n",
       "      <td>50839743</td>\n",
       "      <td>None</td>\n",
       "      <td>CREATE</td>\n",
       "      <td>10</td>\n",
       "      <td>0</td>\n",
       "    </tr>\n",
       "    <tr>\n",
       "      <th>1</th>\n",
       "      <td>1506</td>\n",
       "      <td>50839752</td>\n",
       "      <td>None</td>\n",
       "      <td>PAUSE</td>\n",
       "      <td>10</td>\n",
       "      <td>10</td>\n",
       "    </tr>\n",
       "    <tr>\n",
       "      <th>38</th>\n",
       "      <td>9331</td>\n",
       "      <td>50935021</td>\n",
       "      <td>2021-06-05 17:22:57.462810+00:00</td>\n",
       "      <td>COMPLETE</td>\n",
       "      <td>10</td>\n",
       "      <td>10</td>\n",
       "    </tr>\n",
       "    <tr>\n",
       "      <th>39</th>\n",
       "      <td>9331</td>\n",
       "      <td>50935430</td>\n",
       "      <td>None</td>\n",
       "      <td>CREATE</td>\n",
       "      <td>10</td>\n",
       "      <td>0</td>\n",
       "    </tr>\n",
       "    <tr>\n",
       "      <th>112</th>\n",
       "      <td>19104</td>\n",
       "      <td>51045498</td>\n",
       "      <td>2021-06-07 03:50:30.703350+00:00</td>\n",
       "      <td>COMPLETE</td>\n",
       "      <td>6</td>\n",
       "      <td>6</td>\n",
       "    </tr>\n",
       "  </tbody>\n",
       "</table>\n",
       "</div>"
      ],
      "text/plain": [
       "     user_id  attempt_id                        started_at    status  \\\n",
       "0       1506    50839743                              None    CREATE   \n",
       "1       1506    50839752                              None     PAUSE   \n",
       "38      9331    50935021  2021-06-05 17:22:57.462810+00:00  COMPLETE   \n",
       "39      9331    50935430                              None    CREATE   \n",
       "112    19104    51045498  2021-06-07 03:50:30.703350+00:00  COMPLETE   \n",
       "\n",
       "     no_of_questions  question_attempted  \n",
       "0                 10                   0  \n",
       "1                 10                  10  \n",
       "38                10                  10  \n",
       "39                10                   0  \n",
       "112                6                   6  "
      ]
     },
     "execution_count": 9,
     "metadata": {},
     "output_type": "execute_result"
    }
   ],
   "source": [
    "Q_Unpaid.head()"
   ]
  },
  {
   "cell_type": "code",
   "execution_count": 8,
   "metadata": {},
   "outputs": [
    {
     "name": "stdout",
     "output_type": "stream",
     "text": [
      "There are 1422 Quiz attempted by Unpaid Users\n",
      "There are 19997 Quiz attempted by paid Users\n"
     ]
    }
   ],
   "source": [
    "Q_Unpaid=Quiz[Quiz['user_id'].isin(Unpaid['user_uid'])]\n",
    "print(f\"\"\"There are {Q_Unpaid.shape[0]} Quiz attempted by Unpaid Users\"\"\")\n",
    "Q_paid=Quiz[Quiz['user_id'].isin(paid['user_uid'])]\n",
    "print(f\"\"\"There are {Q_paid.shape[0]} Quiz attempted by paid Users\"\"\")"
   ]
  },
  {
   "cell_type": "code",
   "execution_count": 10,
   "metadata": {},
   "outputs": [],
   "source": [
    "Q_Unpaid=Q_Unpaid[Q_Unpaid['status']=='COMPLETE']"
   ]
  },
  {
   "cell_type": "code",
   "execution_count": 11,
   "metadata": {},
   "outputs": [
    {
     "name": "stdout",
     "output_type": "stream",
     "text": [
      "21789\n",
      "13918\n",
      "13548\n",
      "4173\n"
     ]
    },
    {
     "data": {
      "text/html": [
       "<div>\n",
       "<style scoped>\n",
       "    .dataframe tbody tr th:only-of-type {\n",
       "        vertical-align: middle;\n",
       "    }\n",
       "\n",
       "    .dataframe tbody tr th {\n",
       "        vertical-align: top;\n",
       "    }\n",
       "\n",
       "    .dataframe thead th {\n",
       "        text-align: right;\n",
       "    }\n",
       "</style>\n",
       "<table border=\"1\" class=\"dataframe\">\n",
       "  <thead>\n",
       "    <tr style=\"text-align: right;\">\n",
       "      <th></th>\n",
       "      <th>user_uid</th>\n",
       "      <th>date_joined</th>\n",
       "      <th>date_of_first_purhcase</th>\n",
       "      <th>status</th>\n",
       "      <th>no_of_questions</th>\n",
       "      <th>question_attempted</th>\n",
       "      <th>Start_Date</th>\n",
       "    </tr>\n",
       "  </thead>\n",
       "  <tbody>\n",
       "    <tr>\n",
       "      <th>1</th>\n",
       "      <td>6</td>\n",
       "      <td>2021-06-04</td>\n",
       "      <td>2021-06-04</td>\n",
       "      <td>COMPLETE</td>\n",
       "      <td>30.0</td>\n",
       "      <td>30.0</td>\n",
       "      <td>2021-06-07</td>\n",
       "    </tr>\n",
       "    <tr>\n",
       "      <th>2</th>\n",
       "      <td>6</td>\n",
       "      <td>2021-06-04</td>\n",
       "      <td>2021-06-04</td>\n",
       "      <td>COMPLETE</td>\n",
       "      <td>30.0</td>\n",
       "      <td>9.0</td>\n",
       "      <td>2021-06-07</td>\n",
       "    </tr>\n",
       "    <tr>\n",
       "      <th>3</th>\n",
       "      <td>6</td>\n",
       "      <td>2021-06-04</td>\n",
       "      <td>2021-06-04</td>\n",
       "      <td>COMPLETE</td>\n",
       "      <td>30.0</td>\n",
       "      <td>0.0</td>\n",
       "      <td>2021-06-07</td>\n",
       "    </tr>\n",
       "    <tr>\n",
       "      <th>4</th>\n",
       "      <td>6</td>\n",
       "      <td>2021-06-04</td>\n",
       "      <td>2021-06-04</td>\n",
       "      <td>COMPLETE</td>\n",
       "      <td>15.0</td>\n",
       "      <td>10.0</td>\n",
       "      <td>2021-06-08</td>\n",
       "    </tr>\n",
       "    <tr>\n",
       "      <th>5</th>\n",
       "      <td>6</td>\n",
       "      <td>2021-06-04</td>\n",
       "      <td>2021-06-04</td>\n",
       "      <td>COMPLETE</td>\n",
       "      <td>30.0</td>\n",
       "      <td>30.0</td>\n",
       "      <td>2021-06-08</td>\n",
       "    </tr>\n",
       "  </tbody>\n",
       "</table>\n",
       "</div>"
      ],
      "text/plain": [
       "   user_uid date_joined date_of_first_purhcase    status  no_of_questions  \\\n",
       "1         6  2021-06-04             2021-06-04  COMPLETE             30.0   \n",
       "2         6  2021-06-04             2021-06-04  COMPLETE             30.0   \n",
       "3         6  2021-06-04             2021-06-04  COMPLETE             30.0   \n",
       "4         6  2021-06-04             2021-06-04  COMPLETE             15.0   \n",
       "5         6  2021-06-04             2021-06-04  COMPLETE             30.0   \n",
       "\n",
       "   question_attempted Start_Date  \n",
       "1                30.0 2021-06-07  \n",
       "2                 9.0 2021-06-07  \n",
       "3                 0.0 2021-06-07  \n",
       "4                10.0 2021-06-08  \n",
       "5                30.0 2021-06-08  "
      ]
     },
     "execution_count": 11,
     "metadata": {},
     "output_type": "execute_result"
    }
   ],
   "source": [
    "#Preparing Merged Dataframe for Quiz\n",
    "Q_merge=pd.merge(Purchase,Quiz,left_on='user_uid', right_on='user_id',how='left')\n",
    "print(Q_merge.shape[0])\n",
    "#Filtering of the valid records to Get into 7 days Threshold\n",
    "Q_merge=Q_merge[Q_merge['started_at']!='None']#Filtering out None values in Started_at Column\n",
    "print(Q_merge.shape[0])\n",
    "Q_merge=Q_merge[Q_merge['started_at'].notna()]#Filtering out nan values\n",
    "print(Q_merge.shape[0])\n",
    "\n",
    "#Extracting Date from Datetime column\n",
    "Q_merge['Start_Date']=pd.to_datetime(Q_merge['started_at'].str.split(' ', expand=True)[0])\n",
    "\n",
    "#Filtering First Week of Quiz Data\n",
    "Q_merge=Q_merge[Q_merge['Start_Date']<Q_merge['Week_Threshold']]\n",
    "Q_merge=Q_merge[['user_uid', 'date_joined', 'date_of_first_purhcase','status', 'no_of_questions',\n",
    "       'question_attempted', 'Start_Date']]\n",
    "print(Q_merge.shape[0])\n",
    "\n",
    "Q_merge.head()"
   ]
  },
  {
   "cell_type": "code",
   "execution_count": 12,
   "metadata": {},
   "outputs": [
    {
     "data": {
      "image/png": "[encoded data removed]",
      "text/plain": [
       "<Figure size 504x360 with 1 Axes>"
      ]
     },
     "metadata": {
      "needs_background": "light"
     },
     "output_type": "display_data"
    }
   ],
   "source": [
    "#Paid Users\n",
    "paid=pd.DataFrame(Q_merge[Q_merge['date_of_first_purhcase'].notnull()].groupby('status').user_uid.nunique())\n",
    "#Unpaid Users\n",
    "unpaid=pd.DataFrame(Q_merge[Q_merge['date_of_first_purhcase'].isnull()].groupby('status').user_uid.nunique())\n",
    "\n",
    "# Plotting\n",
    "N=3\n",
    "y1 = (unpaid['user_uid'].tolist())\n",
    "y2 = (paid['user_uid'].tolist())\n",
    "ind = np.arange(N)\n",
    "\n",
    "plt.figure(figsize=(7,5))\n",
    "width = 0.3  \n",
    "\n",
    "\n",
    "plt.bar(ind, y2, width, label='Paid')\n",
    "plt.bar(ind+width, y1 ,width, label='Unpaid')\n",
    "\n",
    "\n",
    "plt.xlabel('Quiz Attempt Status')\n",
    "plt.ylabel('Number of Users')\n",
    "plt.title('Status Distribution')\n",
    "\n",
    "plt.xticks(ind + width / 2, ('COMPLETE', 'PAUSE', 'PROGRESS'))\n",
    "plt.legend(loc='best')\n",
    "plt.show()"
   ]
  },
  {
   "cell_type": "markdown",
   "metadata": {},
   "source": [
    "# StudyCard"
   ]
  },
  {
   "cell_type": "code",
   "execution_count": 14,
   "metadata": {},
   "outputs": [
    {
     "name": "stdout",
     "output_type": "stream",
     "text": [
      "From 1000 users 3480 have actively used Studycards in which there are 3325 paid users and 155 Unpaid users\n"
     ]
    }
   ],
   "source": [
    "Studycard.groupby('user_id').activity_id.nunique()\n",
    "sd=pd.DataFrame(Studycard.groupby('user_id').activity_id.nunique())\n",
    "sd=sd.sort_values('activity_id',ascending=False)\n",
    "\n",
    "#Paid Users who is active in accessing study cards\n",
    "SC_merge=pd.merge(Purchase,Studycard,left_on='user_uid', right_on='user_id',how='right')\n",
    "\n",
    "#Paid \n",
    "SC_paid=SC_merge[~SC_merge['date_of_first_purhcase'].isnull()]\n",
    "#Unpaid\n",
    "SC_unpaid=SC_merge[SC_merge['date_of_first_purhcase'].isnull()]\n",
    "\n",
    "print(f\"\"\"From 1000 users {SC_merge.shape[0]} have actively used Studycards in which there are {SC_paid.shape[0]} paid users and {SC_unpaid.shape[0]} Unpaid users\"\"\")\n",
    "\n"
   ]
  },
  {
   "cell_type": "code",
   "execution_count": 15,
   "metadata": {},
   "outputs": [
    {
     "name": "stdout",
     "output_type": "stream",
     "text": [
      "There are  1933 Studycard Activity recorded in the first week from their date joined in which there are 1780 paid users and 153 Unpaid users\n"
     ]
    }
   ],
   "source": [
    "#1 Week Activity Data\n",
    "SC_merge_week=SC_merge[SC_merge['start_time'].dt.date<SC_merge['Week_Threshold']]\n",
    "SC_paid=SC_merge_week[~SC_merge_week['date_of_first_purhcase'].isnull()]\n",
    "#Unpaid\n",
    "SC_unpaid=SC_merge_week[SC_merge_week['date_of_first_purhcase'].isnull()]\n",
    "\n",
    "print(f\"\"\"There are  {SC_merge_week.shape[0]} Studycard Activity recorded in the first week from their date joined in which there are {SC_paid.shape[0]} paid users and {SC_unpaid.shape[0]} Unpaid users\"\"\")\n"
   ]
  },
  {
   "cell_type": "code",
   "execution_count": 16,
   "metadata": {},
   "outputs": [],
   "source": [
    "#Creating a Dataframe to Analyse Complete Activity with 1 week Activity\n",
    "SC_merge_week_pivot=SC_merge_week.groupby('user_uid').activity_id.nunique().sort_values(ascending=False)\n",
    "SC_merge_pivot=SC_merge.groupby('user_uid').activity_id.nunique().sort_values(ascending=False)\n",
    "df=pd.merge(SC_merge_pivot,SC_merge_week_pivot,left_index=True, right_index=True)\n",
    "df.reset_index(level=0, inplace=True)"
   ]
  },
  {
   "cell_type": "code",
   "execution_count": 17,
   "metadata": {},
   "outputs": [],
   "source": [
    "paid=df[df['user_uid'].isin( Purchase[Purchase['date_of_first_purhcase'].notnull()]['user_uid'])].head(15)\n",
    "unpaid=df[df['user_uid'].isin( Purchase[Purchase['date_of_first_purhcase'].isnull()]['user_uid'])].head(15)"
   ]
  },
  {
   "cell_type": "code",
   "execution_count": 32,
   "metadata": {},
   "outputs": [
    {
     "data": {
      "image/png": "[encoded data removed]",
      "text/plain": [
       "<Figure size 1440x360 with 1 Axes>"
      ]
     },
     "metadata": {
      "needs_background": "light"
     },
     "output_type": "display_data"
    },
    {
     "data": {
      "image/png": "[encoded data removed]",
      "text/plain": [
       "<Figure size 1440x360 with 1 Axes>"
      ]
     },
     "metadata": {
      "needs_background": "light"
     },
     "output_type": "display_data"
    }
   ],
   "source": [
    "# Plotting\n",
    "N=15\n",
    "y1 = (paid['activity_id_x'].tolist())\n",
    "y2 = (paid['activity_id_y'].tolist())\n",
    "ind = np.arange(N)\n",
    "\n",
    "plt.figure(figsize=(20,5))\n",
    "width = 0.3   \n",
    "\n",
    "\n",
    "plt.bar(ind, y2, width, label='First Week Activity')\n",
    "plt.bar(ind+width, y1 ,width, label='Total Activity')\n",
    "\n",
    "\n",
    "plt.xlabel('Top 15 User ID')\n",
    "plt.ylabel('Number of Scorecard Activity')\n",
    "plt.title('Studycard Activity - Paid Users')\n",
    "\n",
    "plt.xticks(ind + width / 2, (paid['user_uid'].tolist()))\n",
    "plt.legend(loc='best')\n",
    "plt.show()\n",
    "\n",
    "\n",
    "\n",
    "# Plotting\n",
    "N=15\n",
    "y1 = (unpaid['activity_id_x'].tolist())\n",
    "y2 = (unpaid['activity_id_y'].tolist())\n",
    "ind = np.arange(N)\n",
    "\n",
    "plt.figure(figsize=(20,5))\n",
    "width = 0.3   \n",
    "\n",
    "\n",
    "plt.bar(ind, y2, width, label='First Week Activity')\n",
    "plt.bar(ind+width, y1 ,width, label='Total Activity')\n",
    "\n",
    "\n",
    "plt.xlabel('Top 15 User ID')\n",
    "plt.ylabel('Number of Scorecard Activity')\n",
    "plt.title('Studycard Activity - Unpaid Users')\n",
    "plt.xticks(ind + width / 2, (unpaid['user_uid'].tolist()))\n",
    "plt.legend(loc='best')\n",
    "plt.show()"
   ]
  },
  {
   "cell_type": "markdown",
   "metadata": {},
   "source": [
    "It is clearly evident that there isnt any Studycard activity post first week. Conversion happeing before this is advisable"
   ]
  },
  {
   "cell_type": "markdown",
   "metadata": {},
   "source": [
    "# Video_Activity"
   ]
  },
  {
   "cell_type": "code",
   "execution_count": 61,
   "metadata": {},
   "outputs": [
    {
     "data": {
      "text/html": [
       "<div>\n",
       "<style scoped>\n",
       "    .dataframe tbody tr th:only-of-type {\n",
       "        vertical-align: middle;\n",
       "    }\n",
       "\n",
       "    .dataframe tbody tr th {\n",
       "        vertical-align: top;\n",
       "    }\n",
       "\n",
       "    .dataframe thead th {\n",
       "        text-align: right;\n",
       "    }\n",
       "</style>\n",
       "<table border=\"1\" class=\"dataframe\">\n",
       "  <thead>\n",
       "    <tr style=\"text-align: right;\">\n",
       "      <th></th>\n",
       "      <th>user_id</th>\n",
       "      <th>watch_instance_id</th>\n",
       "      <th>watched_at</th>\n",
       "      <th>video_id</th>\n",
       "      <th>duration</th>\n",
       "      <th>watched_duration</th>\n",
       "      <th>Percentage_watched</th>\n",
       "    </tr>\n",
       "  </thead>\n",
       "  <tbody>\n",
       "    <tr>\n",
       "      <th>0</th>\n",
       "      <td>6</td>\n",
       "      <td>24552452</td>\n",
       "      <td>2021-06-12 18:13:40.347392+00:00</td>\n",
       "      <td>25261</td>\n",
       "      <td>934</td>\n",
       "      <td>2</td>\n",
       "      <td>0.21</td>\n",
       "    </tr>\n",
       "    <tr>\n",
       "      <th>1</th>\n",
       "      <td>6</td>\n",
       "      <td>24552735</td>\n",
       "      <td>2021-06-12 18:21:45.362998+00:00</td>\n",
       "      <td>25262</td>\n",
       "      <td>398</td>\n",
       "      <td>398</td>\n",
       "      <td>100.00</td>\n",
       "    </tr>\n",
       "    <tr>\n",
       "      <th>2</th>\n",
       "      <td>6</td>\n",
       "      <td>24011079</td>\n",
       "      <td>2021-06-04 18:27:01.296468+00:00</td>\n",
       "      <td>24920</td>\n",
       "      <td>1589</td>\n",
       "      <td>55</td>\n",
       "      <td>3.46</td>\n",
       "    </tr>\n",
       "    <tr>\n",
       "      <th>3</th>\n",
       "      <td>6</td>\n",
       "      <td>24011800</td>\n",
       "      <td>2021-06-04 18:51:27.450857+00:00</td>\n",
       "      <td>24531</td>\n",
       "      <td>319</td>\n",
       "      <td>28</td>\n",
       "      <td>8.78</td>\n",
       "    </tr>\n",
       "    <tr>\n",
       "      <th>4</th>\n",
       "      <td>6</td>\n",
       "      <td>24249571</td>\n",
       "      <td>2021-06-08 11:19:02.187747+00:00</td>\n",
       "      <td>32825</td>\n",
       "      <td>317</td>\n",
       "      <td>15</td>\n",
       "      <td>4.73</td>\n",
       "    </tr>\n",
       "  </tbody>\n",
       "</table>\n",
       "</div>"
      ],
      "text/plain": [
       "   user_id  watch_instance_id                       watched_at  video_id  \\\n",
       "0        6           24552452 2021-06-12 18:13:40.347392+00:00     25261   \n",
       "1        6           24552735 2021-06-12 18:21:45.362998+00:00     25262   \n",
       "2        6           24011079 2021-06-04 18:27:01.296468+00:00     24920   \n",
       "3        6           24011800 2021-06-04 18:51:27.450857+00:00     24531   \n",
       "4        6           24249571 2021-06-08 11:19:02.187747+00:00     32825   \n",
       "\n",
       "   duration  watched_duration  Percentage_watched  \n",
       "0       934                 2                0.21  \n",
       "1       398               398              100.00  \n",
       "2      1589                55                3.46  \n",
       "3       319                28                8.78  \n",
       "4       317                15                4.73  "
      ]
     },
     "execution_count": 61,
     "metadata": {},
     "output_type": "execute_result"
    }
   ],
   "source": [
    "#Creating new column to measure the percentage of video watch\n",
    "Video_Activity['Percentage_watched']=round(Video_Activity['watched_duration']/Video_Activity['duration']*100,2)\n",
    "#Granularity\n",
    "Video_Activity['watch_instance_id'].nunique()\n",
    "Video_Activity.head()\n"
   ]
  },
  {
   "cell_type": "code",
   "execution_count": 48,
   "metadata": {},
   "outputs": [],
   "source": [
    "Video_Activity['Percentage_watched']=Video_Activity['watched_duration']/Video_Activity['duration']*100"
   ]
  },
  {
   "cell_type": "code",
   "execution_count": 56,
   "metadata": {},
   "outputs": [],
   "source": [
    "sample=pd.DataFrame(Video_Activity.groupby(['user_id','video_id']).watched_duration.max())"
   ]
  },
  {
   "cell_type": "code",
   "execution_count": 52,
   "metadata": {},
   "outputs": [
    {
     "data": {
      "text/plain": [
       "12907"
      ]
     },
     "execution_count": 52,
     "metadata": {},
     "output_type": "execute_result"
    }
   ],
   "source": [
    "#Granularity\n",
    "Video_Activity['watch_instance_id'].nunique()"
   ]
  },
  {
   "cell_type": "code",
   "execution_count": 62,
   "metadata": {},
   "outputs": [
    {
     "data": {
      "text/plain": [
       "user_id                755\n",
       "watch_instance_id    12907\n",
       "video_id              4709\n",
       "dtype: int64"
      ]
     },
     "execution_count": 62,
     "metadata": {},
     "output_type": "execute_result"
    }
   ],
   "source": [
    "Video_Activity[['user_id','watch_instance_id','video_id']].nunique()"
   ]
  },
  {
   "cell_type": "code",
   "execution_count": null,
   "metadata": {},
   "outputs": [],
   "source": []
  }
 ],
 "metadata": {
  "kernelspec": {
   "display_name": "Python 3",
   "language": "python",
   "name": "python3"
  },
  "language_info": {
   "codemirror_mode": {
    "name": "ipython",
    "version": 3
   },
   "file_extension": ".py",
   "mimetype": "text/x-python",
   "name": "python",
   "nbconvert_exporter": "python",
   "pygments_lexer": "ipython3",
   "version": "3.8.5"
  }
 },
 "nbformat": 4,
 "nbformat_minor": 4
}
